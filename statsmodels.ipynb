{
  "cells": [
    {
      "cell_type": "markdown",
      "metadata": {
        "id": "kZUHI1XZ3kqO"
      },
      "source": [
        "# Statistical Modeling with Python\n",
        "\n",
        "`statsmodels` is better suited for traditional stats"
      ]
    },
    {
      "cell_type": "code",
      "execution_count": 29,
      "metadata": {
        "ExecuteTime": {
          "end_time": "2020-05-13T15:18:36.966142Z",
          "start_time": "2020-05-13T15:18:36.963232Z"
        },
        "id": "z4knjWV43kqW"
      },
      "outputs": [],
      "source": [
        "# the statsmodels.api uses numpy array notation\n",
        "# statsmodels.formula.api use formula notation (similar to R's formula notation)\n",
        "import numpy as np\n",
        "import pandas as pd\n",
        "import matplotlib.pyplot as plt\n",
        "import seaborn as sns\n",
        "import statsmodels.api as sm\n",
        "import statsmodels.formula.api as smf"
      ]
    },
    {
      "cell_type": "markdown",
      "metadata": {
        "id": "WR2zVUkZ3kqb"
      },
      "source": [
        "## A minimal OLS example"
      ]
    },
    {
      "cell_type": "markdown",
      "metadata": {
        "id": "4Qhd04K63kqc"
      },
      "source": [
        "Four pairs of points"
      ]
    },
    {
      "cell_type": "code",
      "execution_count": 30,
      "metadata": {
        "id": "J3vOGS6_3kqc"
      },
      "outputs": [],
      "source": [
        "x = np.array([1,2,3,4])\n",
        "y = np.array([2,6,4,8])"
      ]
    },
    {
      "cell_type": "code",
      "execution_count": 31,
      "metadata": {
        "id": "L9QIhXVi3kqd",
        "outputId": "577081a6-ffb4-46d5-e555-d99b59858dae",
        "colab": {
          "base_uri": "https://localhost:8080/",
          "height": 269
        }
      },
      "outputs": [
        {
          "output_type": "display_data",
          "data": {
            "text/plain": [
              "<Figure size 432x288 with 1 Axes>"
            ],
            "image/png": "[encoded data removed]"
          },
          "metadata": {}
        }
      ],
      "source": [
        "plt.scatter(x,y, marker = '.')\n",
        "plt.xlim(0,5)\n",
        "plt.ylim(0,10)\n",
        "plt.show()"
      ]
    },
    {
      "cell_type": "code",
      "execution_count": 32,
      "metadata": {
        "id": "luUEVA6w3kqg",
        "outputId": "508fa5e1-dccf-47da-ccda-522744e24d20",
        "colab": {
          "base_uri": "https://localhost:8080/"
        }
      },
      "outputs": [
        {
          "output_type": "stream",
          "name": "stdout",
          "text": [
            "   x  y\n",
            "0  1  2\n",
            "1  2  6\n",
            "2  3  4\n",
            "3  4  8\n"
          ]
        }
      ],
      "source": [
        "# make a dataframe of our data\n",
        "d = pd.DataFrame({'x':x, 'y':y})\n",
        "print(d)"
      ]
    },
    {
      "cell_type": "markdown",
      "metadata": {
        "id": "BQcb7etn3kqi"
      },
      "source": [
        "Seaborn lmplot"
      ]
    },
    {
      "cell_type": "code",
      "execution_count": 33,
      "metadata": {
        "id": "vgetHdZZ3kqj",
        "outputId": "74dd9c82-d577-4cda-df8a-86f70dc9864c",
        "colab": {
          "base_uri": "https://localhost:8080/",
          "height": 386
        }
      },
      "outputs": [
        {
          "output_type": "execute_result",
          "data": {
            "text/plain": [
              "<seaborn.axisgrid.FacetGrid at 0x7f91f939d490>"
            ]
          },
          "metadata": {},
          "execution_count": 33
        },
        {
          "output_type": "display_data",
          "data": {
            "text/plain": [
              "<Figure size 360x360 with 1 Axes>"
            ],
            "image/png": "[encoded data removed]"
          },
          "metadata": {}
        }
      ],
      "source": [
        "sns.lmplot(x = 'x', y = 'y', data = d)\n"
      ]
    },
    {
      "cell_type": "markdown",
      "metadata": {
        "id": "dOi1Wzhy3kqk"
      },
      "source": [
        "## Formula notation with statsmodels\n",
        "use statsmodels.formula.api (often imported as smf)"
      ]
    },
    {
      "cell_type": "code",
      "execution_count": 34,
      "metadata": {
        "id": "T4TluJa03kql"
      },
      "outputs": [],
      "source": [
        "# data is in a dataframe\n",
        "model = smf.ols('y ~ x', data = d)\n"
      ]
    },
    {
      "cell_type": "code",
      "execution_count": 35,
      "metadata": {
        "id": "WsUbe4BB3kqm"
      },
      "outputs": [],
      "source": [
        "# estimation of coefficients is not done until you call fit() on the model\n",
        "results = model.fit()\n",
        "\n"
      ]
    },
    {
      "cell_type": "code",
      "execution_count": 36,
      "metadata": {
        "id": "DKUR8jV13kqn",
        "outputId": "0321e475-292f-4dee-ffa2-0362d9c8b354",
        "colab": {
          "base_uri": "https://localhost:8080/"
        }
      },
      "outputs": [
        {
          "output_type": "stream",
          "name": "stdout",
          "text": [
            "                            OLS Regression Results                            \n",
            "==============================================================================\n",
            "Dep. Variable:                      y   R-squared:                       0.640\n",
            "Model:                            OLS   Adj. R-squared:                  0.460\n",
            "Method:                 Least Squares   F-statistic:                     3.556\n",
            "Date:                Wed, 16 Nov 2022   Prob (F-statistic):              0.200\n",
            "Time:                        18:37:56   Log-Likelihood:                -6.8513\n",
            "No. Observations:                   4   AIC:                             17.70\n",
            "Df Residuals:                       2   BIC:                             16.48\n",
            "Df Model:                           1                                         \n",
            "Covariance Type:            nonrobust                                         \n",
            "==============================================================================\n",
            "                 coef    std err          t      P>|t|      [0.025      0.975]\n",
            "------------------------------------------------------------------------------\n",
            "Intercept      1.0000      2.324      0.430      0.709      -8.998      10.998\n",
            "x              1.6000      0.849      1.886      0.200      -2.051       5.251\n",
            "==============================================================================\n",
            "Omnibus:                          nan   Durbin-Watson:                   3.400\n",
            "Prob(Omnibus):                    nan   Jarque-Bera (JB):                0.308\n",
            "Skew:                           0.000   Prob(JB):                        0.857\n",
            "Kurtosis:                       1.640   Cond. No.                         7.47\n",
            "==============================================================================\n",
            "\n",
            "Notes:\n",
            "[1] Standard Errors assume that the covariance matrix of the errors is correctly specified.\n"
          ]
        },
        {
          "output_type": "stream",
          "name": "stderr",
          "text": [
            "/usr/local/lib/python3.7/dist-packages/statsmodels/stats/stattools.py:75: ValueWarning: omni_normtest is not valid with less than 8 observations; 4 samples were given.\n",
            "  \"samples were given.\" % int(n), ValueWarning)\n"
          ]
        }
      ],
      "source": [
        "\n",
        "print(results.summary()) \n",
        "\n"
      ]
    },
    {
      "cell_type": "markdown",
      "metadata": {
        "id": "RBZEl28a3kqp"
      },
      "source": [
        "Using the abline_plot function for plotting the results"
      ]
    },
    {
      "cell_type": "code",
      "execution_count": 37,
      "metadata": {
        "id": "4JzeLT3D3kqq",
        "outputId": "b81fd360-4b64-4f57-a186-766c954e10fa",
        "colab": {
          "base_uri": "https://localhost:8080/",
          "height": 269
        }
      },
      "outputs": [
        {
          "output_type": "display_data",
          "data": {
            "text/plain": [
              "<Figure size 432x288 with 1 Axes>"
            ],
            "image/png": "[encoded data removed]"
          },
          "metadata": {}
        }
      ],
      "source": [
        "sm.graphics.abline_plot(model_results = results)\n",
        "plt.scatter(d.x, d.y)\n",
        "\n",
        "plt.xlim(0,5)\n",
        "plt.ylim(0,10)\n",
        "\n",
        "plt.show()"
      ]
    },
    {
      "cell_type": "markdown",
      "metadata": {
        "id": "utqyzlBY3kqs"
      },
      "source": [
        "Generating an anova table"
      ]
    },
    {
      "cell_type": "code",
      "execution_count": 38,
      "metadata": {
        "id": "LIXdKQzU3kqt",
        "outputId": "005d1d2e-9ab1-417b-a7fd-c90d576384c6",
        "colab": {
          "base_uri": "https://localhost:8080/"
        }
      },
      "outputs": [
        {
          "output_type": "stream",
          "name": "stdout",
          "text": [
            "           df  sum_sq  mean_sq         F  PR(>F)\n",
            "x         1.0    12.8     12.8  3.555556     0.2\n",
            "Residual  2.0     7.2      3.6       NaN     NaN\n"
          ]
        }
      ],
      "source": [
        "print(sm.stats.anova_lm(results))\n"
      ]
    },
    {
      "cell_type": "markdown",
      "metadata": {
        "id": "18BcwpYi3kqt"
      },
      "source": [
        "Making predictions"
      ]
    },
    {
      "cell_type": "code",
      "execution_count": 39,
      "metadata": {
        "id": "1Y8ycHTr3kqu",
        "outputId": "8cd321ab-2ed4-4dd9-852e-484236278421",
        "colab": {
          "base_uri": "https://localhost:8080/"
        }
      },
      "outputs": [
        {
          "output_type": "execute_result",
          "data": {
            "text/plain": [
              "0    4.2\n",
              "dtype: float64"
            ]
          },
          "metadata": {},
          "execution_count": 39
        }
      ],
      "source": [
        "results.predict({'x' : 2})"
      ]
    },
    {
      "cell_type": "markdown",
      "metadata": {
        "id": "gZb4auin3kqv"
      },
      "source": [
        "## numpy array notation\n",
        "similar to sklearn's notation"
      ]
    },
    {
      "cell_type": "code",
      "execution_count": 40,
      "metadata": {
        "id": "tB6N6gvB3kqx",
        "outputId": "478d3f1b-6c39-48a5-f508-a5404a547d35",
        "colab": {
          "base_uri": "https://localhost:8080/"
        }
      },
      "outputs": [
        {
          "output_type": "stream",
          "name": "stdout",
          "text": [
            "[1 2 3 4]\n"
          ]
        }
      ],
      "source": [
        "print(x)"
      ]
    },
    {
      "cell_type": "code",
      "execution_count": 41,
      "metadata": {
        "id": "Q3KgNPrt3kqz"
      },
      "outputs": [],
      "source": [
        "X = sm.add_constant(x)  \n",
        "# need to add a constant for the intercept term.\n",
        "# because we are using the numpy notation, we use sm rather than smf"
      ]
    },
    {
      "cell_type": "code",
      "execution_count": 42,
      "metadata": {
        "id": "bZNg44Ou3kq1",
        "outputId": "36f429f6-b4d0-4606-881a-3c01ed1584b9",
        "colab": {
          "base_uri": "https://localhost:8080/"
        }
      },
      "outputs": [
        {
          "output_type": "stream",
          "name": "stdout",
          "text": [
            "[[1. 1.]\n",
            " [1. 2.]\n",
            " [1. 3.]\n",
            " [1. 4.]]\n"
          ]
        }
      ],
      "source": [
        "print(X)"
      ]
    },
    {
      "cell_type": "markdown",
      "metadata": {
        "id": "uU2kh-QB3kq2"
      },
      "source": [
        "$$y_i = \\beta_0 + \\beta_1 x_i + \\epsilon_i$$\n",
        "\n",
        "$$\\mathbf{\\hat{Y}} = \\boldsymbol{\\beta} \\mathbf{X}$$\n"
      ]
    },
    {
      "cell_type": "code",
      "execution_count": 43,
      "metadata": {
        "id": "HH71fwrW3kq3"
      },
      "outputs": [],
      "source": [
        "# OLS is capitalized in the numpy notation\n",
        "model2 = sm.OLS(y, X)  \n"
      ]
    },
    {
      "cell_type": "code",
      "execution_count": 44,
      "metadata": {
        "id": "XGaMNbye3kq4"
      },
      "outputs": [],
      "source": [
        "results2 = model2.fit()\n"
      ]
    },
    {
      "cell_type": "code",
      "execution_count": 45,
      "metadata": {
        "id": "d3VOwKvE3kq7",
        "outputId": "2b50df53-fe26-4a4c-8916-dce81753adbd",
        "colab": {
          "base_uri": "https://localhost:8080/"
        }
      },
      "outputs": [
        {
          "output_type": "stream",
          "name": "stdout",
          "text": [
            "                            OLS Regression Results                            \n",
            "==============================================================================\n",
            "Dep. Variable:                      y   R-squared:                       0.640\n",
            "Model:                            OLS   Adj. R-squared:                  0.460\n",
            "Method:                 Least Squares   F-statistic:                     3.556\n",
            "Date:                Wed, 16 Nov 2022   Prob (F-statistic):              0.200\n",
            "Time:                        18:37:56   Log-Likelihood:                -6.8513\n",
            "No. Observations:                   4   AIC:                             17.70\n",
            "Df Residuals:                       2   BIC:                             16.48\n",
            "Df Model:                           1                                         \n",
            "Covariance Type:            nonrobust                                         \n",
            "==============================================================================\n",
            "                 coef    std err          t      P>|t|      [0.025      0.975]\n",
            "------------------------------------------------------------------------------\n",
            "const          1.0000      2.324      0.430      0.709      -8.998      10.998\n",
            "x1             1.6000      0.849      1.886      0.200      -2.051       5.251\n",
            "==============================================================================\n",
            "Omnibus:                          nan   Durbin-Watson:                   3.400\n",
            "Prob(Omnibus):                    nan   Jarque-Bera (JB):                0.308\n",
            "Skew:                           0.000   Prob(JB):                        0.857\n",
            "Kurtosis:                       1.640   Cond. No.                         7.47\n",
            "==============================================================================\n",
            "\n",
            "Notes:\n",
            "[1] Standard Errors assume that the covariance matrix of the errors is correctly specified.\n"
          ]
        },
        {
          "output_type": "stream",
          "name": "stderr",
          "text": [
            "/usr/local/lib/python3.7/dist-packages/statsmodels/stats/stattools.py:75: ValueWarning: omni_normtest is not valid with less than 8 observations; 4 samples were given.\n",
            "  \"samples were given.\" % int(n), ValueWarning)\n"
          ]
        }
      ],
      "source": [
        "print(results2.summary())\n"
      ]
    },
    {
      "cell_type": "markdown",
      "metadata": {
        "id": "woC7-Xoe3kq8"
      },
      "source": [
        "## OLS solution\n",
        "\n",
        "$$(X^TX)^{-1}X^TY$$"
      ]
    },
    {
      "cell_type": "code",
      "execution_count": 46,
      "metadata": {
        "id": "_u04WrWF3kq9",
        "outputId": "9f49a3d2-14c8-4a5d-bed6-adc820559202",
        "colab": {
          "base_uri": "https://localhost:8080/"
        }
      },
      "outputs": [
        {
          "output_type": "execute_result",
          "data": {
            "text/plain": [
              "array([[1., 1.],\n",
              "       [1., 2.],\n",
              "       [1., 3.],\n",
              "       [1., 4.]])"
            ]
          },
          "metadata": {},
          "execution_count": 46
        }
      ],
      "source": [
        "X"
      ]
    },
    {
      "cell_type": "code",
      "execution_count": 47,
      "metadata": {
        "id": "auUsHkgZ3kq-",
        "outputId": "1b71a3b4-a629-4740-b9d7-9c953e0dd725",
        "colab": {
          "base_uri": "https://localhost:8080/"
        }
      },
      "outputs": [
        {
          "output_type": "execute_result",
          "data": {
            "text/plain": [
              "array([1. , 1.6])"
            ]
          },
          "metadata": {},
          "execution_count": 47
        }
      ],
      "source": [
        "np.linalg.inv(X.T @ X) @ (X.T @ y)"
      ]
    },
    {
      "cell_type": "markdown",
      "metadata": {
        "id": "aSbpg2_u3kq-"
      },
      "source": [
        "## Plot Interaction of Categorical Factors\n",
        "\n",
        "https://www.statsmodels.org/dev/examples/notebooks/generated/categorical_interaction_plot.html\n",
        "\n",
        "In this example, we will visualize the interaction between categorical factors. First, we will create some categorical data. Then, we will plot it using the interaction_plot function, which internally re-codes the x-factor categories to integers."
      ]
    },
    {
      "cell_type": "code",
      "execution_count": 48,
      "metadata": {
        "id": "RWsPCgzk3krA",
        "outputId": "3ad77e8a-b2d1-4616-915c-8a319445c5dc",
        "colab": {
          "base_uri": "https://localhost:8080/"
        }
      },
      "outputs": [
        {
          "output_type": "stream",
          "name": "stdout",
          "text": [
            "    Consumption  Gender  Income\n",
            "0            51    Male      80\n",
            "1            52    Male      80\n",
            "2            53    Male      90\n",
            "3            54    Male      90\n",
            "4            56    Male     100\n",
            "5            57    Male     100\n",
            "6            55  Female      80\n",
            "7            56  Female      80\n",
            "8            58  Female      90\n",
            "9            59  Female      90\n",
            "10           62  Female     100\n",
            "11           63  Female     100\n"
          ]
        }
      ],
      "source": [
        "# https://stackoverflow.com/questions/55663474/interaction-plot-from-statsmodels-formula-api-using-python\n",
        "\n",
        "import pandas as pd\n",
        "from statsmodels.formula.api import ols\n",
        "\n",
        "Consumption = [51, 52, 53, 54, 56, 57, 55, 56, 58, 59, 62, 63]\n",
        "Gender  = [\"Male\", \"Male\", \"Male\", \"Male\", \"Male\", \"Male\", \"Female\",\n",
        "           \"Female\", \"Female\", \"Female\", \"Female\", \"Female\"]\n",
        "Income = [80, 80, 90, 90, 100, 100, 80, 80, 90, 90, 100, 100]\n",
        "\n",
        "df = pd.DataFrame( {\"Consumption\": Consumption, \"Gender\": Gender, \"Income\": Income})\n",
        "print(df)"
      ]
    },
    {
      "cell_type": "code",
      "execution_count": 49,
      "metadata": {
        "id": "MhFIAGwF3krD",
        "outputId": "7a62969f-7432-435a-99fb-c76dad4f6efa",
        "colab": {
          "base_uri": "https://localhost:8080/",
          "height": 557
        }
      },
      "outputs": [
        {
          "output_type": "stream",
          "name": "stderr",
          "text": [
            "/usr/local/lib/python3.7/dist-packages/scipy/stats/stats.py:1542: UserWarning: kurtosistest only valid for n>=20 ... continuing anyway, n=12\n",
            "  \"anyway, n=%i\" % int(n))\n"
          ]
        },
        {
          "output_type": "execute_result",
          "data": {
            "text/plain": [
              "<class 'statsmodels.iolib.summary.Summary'>\n",
              "\"\"\"\n",
              "                            OLS Regression Results                            \n",
              "==============================================================================\n",
              "Dep. Variable:            Consumption   R-squared:                       0.976\n",
              "Model:                            OLS   Adj. R-squared:                  0.967\n",
              "Method:                 Least Squares   F-statistic:                     108.4\n",
              "Date:                Wed, 16 Nov 2022   Prob (F-statistic):           8.11e-07\n",
              "Time:                        18:37:56   Log-Likelihood:                -9.9135\n",
              "No. Observations:                  12   AIC:                             27.83\n",
              "Df Residuals:                       8   BIC:                             29.77\n",
              "Df Model:                           3                                         \n",
              "Covariance Type:            nonrobust                                         \n",
              "=========================================================================================\n",
              "                            coef    std err          t      P>|t|      [0.025      0.975]\n",
              "-----------------------------------------------------------------------------------------\n",
              "Intercept                27.3333      3.059      8.935      0.000      20.279      34.387\n",
              "Gender[T.Male]            4.0000      4.326      0.925      0.382      -5.976      13.976\n",
              "Income                    0.3500      0.034     10.340      0.000       0.272       0.428\n",
              "Gender[T.Male]:Income    -0.1000      0.048     -2.089      0.070      -0.210       0.010\n",
              "==============================================================================\n",
              "Omnibus:                        2.522   Durbin-Watson:                   3.273\n",
              "Prob(Omnibus):                  0.283   Jarque-Bera (JB):                0.970\n",
              "Skew:                          -0.055   Prob(JB):                        0.616\n",
              "Kurtosis:                       1.612   Cond. No.                     2.62e+03\n",
              "==============================================================================\n",
              "\n",
              "Notes:\n",
              "[1] Standard Errors assume that the covariance matrix of the errors is correctly specified.\n",
              "[2] The condition number is large, 2.62e+03. This might indicate that there are\n",
              "strong multicollinearity or other numerical problems.\n",
              "\"\"\""
            ],
            "text/html": [
              "<table class=\"simpletable\">\n",
              "<caption>OLS Regression Results</caption>\n",
              "<tr>\n",
              "  <th>Dep. Variable:</th>       <td>Consumption</td>   <th>  R-squared:         </th> <td>   0.976</td>\n",
              "</tr>\n",
              "<tr>\n",
              "  <th>Model:</th>                   <td>OLS</td>       <th>  Adj. R-squared:    </th> <td>   0.967</td>\n",
              "</tr>\n",
              "<tr>\n",
              "  <th>Method:</th>             <td>Least Squares</td>  <th>  F-statistic:       </th> <td>   108.4</td>\n",
              "</tr>\n",
              "<tr>\n",
              "  <th>Date:</th>             <td>Wed, 16 Nov 2022</td> <th>  Prob (F-statistic):</th> <td>8.11e-07</td>\n",
              "</tr>\n",
              "<tr>\n",
              "  <th>Time:</th>                 <td>18:37:56</td>     <th>  Log-Likelihood:    </th> <td> -9.9135</td>\n",
              "</tr>\n",
              "<tr>\n",
              "  <th>No. Observations:</th>      <td>    12</td>      <th>  AIC:               </th> <td>   27.83</td>\n",
              "</tr>\n",
              "<tr>\n",
              "  <th>Df Residuals:</th>          <td>     8</td>      <th>  BIC:               </th> <td>   29.77</td>\n",
              "</tr>\n",
              "<tr>\n",
              "  <th>Df Model:</th>              <td>     3</td>      <th>                     </th>     <td> </td>   \n",
              "</tr>\n",
              "<tr>\n",
              "  <th>Covariance Type:</th>      <td>nonrobust</td>    <th>                     </th>     <td> </td>   \n",
              "</tr>\n",
              "</table>\n",
              "<table class=\"simpletable\">\n",
              "<tr>\n",
              "            <td></td>               <th>coef</th>     <th>std err</th>      <th>t</th>      <th>P>|t|</th>  <th>[0.025</th>    <th>0.975]</th>  \n",
              "</tr>\n",
              "<tr>\n",
              "  <th>Intercept</th>             <td>   27.3333</td> <td>    3.059</td> <td>    8.935</td> <td> 0.000</td> <td>   20.279</td> <td>   34.387</td>\n",
              "</tr>\n",
              "<tr>\n",
              "  <th>Gender[T.Male]</th>        <td>    4.0000</td> <td>    4.326</td> <td>    0.925</td> <td> 0.382</td> <td>   -5.976</td> <td>   13.976</td>\n",
              "</tr>\n",
              "<tr>\n",
              "  <th>Income</th>                <td>    0.3500</td> <td>    0.034</td> <td>   10.340</td> <td> 0.000</td> <td>    0.272</td> <td>    0.428</td>\n",
              "</tr>\n",
              "<tr>\n",
              "  <th>Gender[T.Male]:Income</th> <td>   -0.1000</td> <td>    0.048</td> <td>   -2.089</td> <td> 0.070</td> <td>   -0.210</td> <td>    0.010</td>\n",
              "</tr>\n",
              "</table>\n",
              "<table class=\"simpletable\">\n",
              "<tr>\n",
              "  <th>Omnibus:</th>       <td> 2.522</td> <th>  Durbin-Watson:     </th> <td>   3.273</td>\n",
              "</tr>\n",
              "<tr>\n",
              "  <th>Prob(Omnibus):</th> <td> 0.283</td> <th>  Jarque-Bera (JB):  </th> <td>   0.970</td>\n",
              "</tr>\n",
              "<tr>\n",
              "  <th>Skew:</th>          <td>-0.055</td> <th>  Prob(JB):          </th> <td>   0.616</td>\n",
              "</tr>\n",
              "<tr>\n",
              "  <th>Kurtosis:</th>      <td> 1.612</td> <th>  Cond. No.          </th> <td>2.62e+03</td>\n",
              "</tr>\n",
              "</table><br/><br/>Notes:<br/>[1] Standard Errors assume that the covariance matrix of the errors is correctly specified.<br/>[2] The condition number is large, 2.62e+03. This might indicate that there are<br/>strong multicollinearity or other numerical problems."
            ]
          },
          "metadata": {},
          "execution_count": 49
        }
      ],
      "source": [
        "Reg = ols(formula = \"Consumption ~ Gender + Income + Gender*Income\", data = df)\n",
        "Fit = Reg.fit()\n",
        "Fit.summary()"
      ]
    },
    {
      "cell_type": "code",
      "execution_count": 50,
      "metadata": {
        "id": "2a9fWhAd3krT",
        "outputId": "5afc4be5-af19-4a24-a6fb-0d6858f58f61",
        "colab": {
          "base_uri": "https://localhost:8080/",
          "height": 282
        }
      },
      "outputs": [
        {
          "output_type": "display_data",
          "data": {
            "text/plain": [
              "<Figure size 432x288 with 1 Axes>"
            ],
            "image/png": "[encoded data removed]"
          },
          "metadata": {}
        }
      ],
      "source": [
        "import matplotlib.pyplot as plt\n",
        "from statsmodels.graphics.factorplots import interaction_plot\n",
        "plt.style.use('ggplot')\n",
        "\n",
        "fig = interaction_plot(\n",
        "   x        = Income,\n",
        "   trace    = Gender,\n",
        "   response = Fit.fittedvalues,\n",
        "   colors   = ['red','blue'],\n",
        "   markers  = ['D','^'])\n",
        "plt.xlabel('Income')\n",
        "plt.ylabel('Consumption')\n",
        "plt.legend().set_title(None)\n",
        "plt.show()"
      ]
    },
    {
      "cell_type": "markdown",
      "source": [
        "1. Aumentar 5 datos más"
      ],
      "metadata": {
        "id": "IBZfEP-Jt-rq"
      }
    },
    {
      "cell_type": "code",
      "source": [
        "Consumption = [51, 52, 53, 54, 56, 57, 55, 56, 58, 59, 62, 63, 64, 66, 68, 71, 73]\n",
        "Gender  = [\"Male\", \"Male\", \"Male\", \"Male\", \"Male\", \"Male\", \"Female\",\n",
        "           \"Female\", \"Female\", \"Female\", \"Female\", \"Female\", \"Male\", \"Female\", \"Male\", \"Male\", \"Female\"]\n",
        "Income = [80, 80, 90, 90, 100, 100, 80, 80, 90, 90, 100, 100, 80, 90, 100, 80, 90]\n",
        "\n",
        "df = pd.DataFrame( {\"Consumption\": Consumption, \"Gender\": Gender, \"Income\": Income})\n",
        "print(df)"
      ],
      "metadata": {
        "id": "Aixq9JhauMZV",
        "outputId": "58720409-b4c5-4184-970e-eaaf279cf948",
        "colab": {
          "base_uri": "https://localhost:8080/"
        }
      },
      "execution_count": 51,
      "outputs": [
        {
          "output_type": "stream",
          "name": "stdout",
          "text": [
            "    Consumption  Gender  Income\n",
            "0            51    Male      80\n",
            "1            52    Male      80\n",
            "2            53    Male      90\n",
            "3            54    Male      90\n",
            "4            56    Male     100\n",
            "5            57    Male     100\n",
            "6            55  Female      80\n",
            "7            56  Female      80\n",
            "8            58  Female      90\n",
            "9            59  Female      90\n",
            "10           62  Female     100\n",
            "11           63  Female     100\n",
            "12           64    Male      80\n",
            "13           66  Female      90\n",
            "14           68    Male     100\n",
            "15           71    Male      80\n",
            "16           73  Female      90\n"
          ]
        }
      ]
    },
    {
      "cell_type": "markdown",
      "source": [
        "2. Quitar gender * income"
      ],
      "metadata": {
        "id": "-OmYeW1mtlFf"
      }
    },
    {
      "cell_type": "code",
      "execution_count": 52,
      "metadata": {
        "id": "0EHRrn2L3krc",
        "outputId": "085a631a-15b0-41a8-b36b-60b97d5f9ac9",
        "colab": {
          "base_uri": "https://localhost:8080/",
          "height": 536
        }
      },
      "outputs": [
        {
          "output_type": "stream",
          "name": "stderr",
          "text": [
            "/usr/local/lib/python3.7/dist-packages/scipy/stats/stats.py:1542: UserWarning: kurtosistest only valid for n>=20 ... continuing anyway, n=17\n",
            "  \"anyway, n=%i\" % int(n))\n"
          ]
        },
        {
          "output_type": "execute_result",
          "data": {
            "text/plain": [
              "<class 'statsmodels.iolib.summary.Summary'>\n",
              "\"\"\"\n",
              "                            OLS Regression Results                            \n",
              "==============================================================================\n",
              "Dep. Variable:            Consumption   R-squared:                       0.085\n",
              "Model:                            OLS   Adj. R-squared:                 -0.045\n",
              "Method:                 Least Squares   F-statistic:                    0.6534\n",
              "Date:                Wed, 16 Nov 2022   Prob (F-statistic):              0.535\n",
              "Time:                        18:37:56   Log-Likelihood:                -55.202\n",
              "No. Observations:                  17   AIC:                             116.4\n",
              "Df Residuals:                      14   BIC:                             118.9\n",
              "Df Model:                           2                                         \n",
              "Covariance Type:            nonrobust                                         \n",
              "==================================================================================\n",
              "                     coef    std err          t      P>|t|      [0.025      0.975]\n",
              "----------------------------------------------------------------------------------\n",
              "Intercept         48.7347     18.859      2.584      0.022       8.286      89.184\n",
              "Gender[T.Male]    -2.8980      3.340     -0.868      0.400     -10.062       4.266\n",
              "Income             0.1418      0.208      0.683      0.506      -0.304       0.588\n",
              "==============================================================================\n",
              "Omnibus:                        3.855   Durbin-Watson:                   0.176\n",
              "Prob(Omnibus):                  0.145   Jarque-Bera (JB):                2.930\n",
              "Skew:                           0.995   Prob(JB):                        0.231\n",
              "Kurtosis:                       2.575   Cond. No.                     1.02e+03\n",
              "==============================================================================\n",
              "\n",
              "Notes:\n",
              "[1] Standard Errors assume that the covariance matrix of the errors is correctly specified.\n",
              "[2] The condition number is large, 1.02e+03. This might indicate that there are\n",
              "strong multicollinearity or other numerical problems.\n",
              "\"\"\""
            ],
            "text/html": [
              "<table class=\"simpletable\">\n",
              "<caption>OLS Regression Results</caption>\n",
              "<tr>\n",
              "  <th>Dep. Variable:</th>       <td>Consumption</td>   <th>  R-squared:         </th> <td>   0.085</td>\n",
              "</tr>\n",
              "<tr>\n",
              "  <th>Model:</th>                   <td>OLS</td>       <th>  Adj. R-squared:    </th> <td>  -0.045</td>\n",
              "</tr>\n",
              "<tr>\n",
              "  <th>Method:</th>             <td>Least Squares</td>  <th>  F-statistic:       </th> <td>  0.6534</td>\n",
              "</tr>\n",
              "<tr>\n",
              "  <th>Date:</th>             <td>Wed, 16 Nov 2022</td> <th>  Prob (F-statistic):</th>  <td> 0.535</td> \n",
              "</tr>\n",
              "<tr>\n",
              "  <th>Time:</th>                 <td>18:37:56</td>     <th>  Log-Likelihood:    </th> <td> -55.202</td>\n",
              "</tr>\n",
              "<tr>\n",
              "  <th>No. Observations:</th>      <td>    17</td>      <th>  AIC:               </th> <td>   116.4</td>\n",
              "</tr>\n",
              "<tr>\n",
              "  <th>Df Residuals:</th>          <td>    14</td>      <th>  BIC:               </th> <td>   118.9</td>\n",
              "</tr>\n",
              "<tr>\n",
              "  <th>Df Model:</th>              <td>     2</td>      <th>                     </th>     <td> </td>   \n",
              "</tr>\n",
              "<tr>\n",
              "  <th>Covariance Type:</th>      <td>nonrobust</td>    <th>                     </th>     <td> </td>   \n",
              "</tr>\n",
              "</table>\n",
              "<table class=\"simpletable\">\n",
              "<tr>\n",
              "         <td></td>           <th>coef</th>     <th>std err</th>      <th>t</th>      <th>P>|t|</th>  <th>[0.025</th>    <th>0.975]</th>  \n",
              "</tr>\n",
              "<tr>\n",
              "  <th>Intercept</th>      <td>   48.7347</td> <td>   18.859</td> <td>    2.584</td> <td> 0.022</td> <td>    8.286</td> <td>   89.184</td>\n",
              "</tr>\n",
              "<tr>\n",
              "  <th>Gender[T.Male]</th> <td>   -2.8980</td> <td>    3.340</td> <td>   -0.868</td> <td> 0.400</td> <td>  -10.062</td> <td>    4.266</td>\n",
              "</tr>\n",
              "<tr>\n",
              "  <th>Income</th>         <td>    0.1418</td> <td>    0.208</td> <td>    0.683</td> <td> 0.506</td> <td>   -0.304</td> <td>    0.588</td>\n",
              "</tr>\n",
              "</table>\n",
              "<table class=\"simpletable\">\n",
              "<tr>\n",
              "  <th>Omnibus:</th>       <td> 3.855</td> <th>  Durbin-Watson:     </th> <td>   0.176</td>\n",
              "</tr>\n",
              "<tr>\n",
              "  <th>Prob(Omnibus):</th> <td> 0.145</td> <th>  Jarque-Bera (JB):  </th> <td>   2.930</td>\n",
              "</tr>\n",
              "<tr>\n",
              "  <th>Skew:</th>          <td> 0.995</td> <th>  Prob(JB):          </th> <td>   0.231</td>\n",
              "</tr>\n",
              "<tr>\n",
              "  <th>Kurtosis:</th>      <td> 2.575</td> <th>  Cond. No.          </th> <td>1.02e+03</td>\n",
              "</tr>\n",
              "</table><br/><br/>Notes:<br/>[1] Standard Errors assume that the covariance matrix of the errors is correctly specified.<br/>[2] The condition number is large, 1.02e+03. This might indicate that there are<br/>strong multicollinearity or other numerical problems."
            ]
          },
          "metadata": {},
          "execution_count": 52
        }
      ],
      "source": [
        "Reg = ols(formula = \"Consumption ~ Gender + Income \", data = df)\n",
        "Fit = Reg.fit()\n",
        "Fit.summary()"
      ]
    },
    {
      "cell_type": "markdown",
      "source": [],
      "metadata": {
        "id": "iGeeCc8ouqBR"
      }
    },
    {
      "cell_type": "markdown",
      "source": [],
      "metadata": {
        "id": "edn5k1LDuxZa"
      }
    }
  ],
  "metadata": {
    "celltoolbar": "Slideshow",
    "kernelspec": {
      "display_name": "Python 3 (ipykernel)",
      "language": "python",
      "name": "python3"
    },
    "language_info": {
      "codemirror_mode": {
        "name": "ipython",
        "version": 3
      },
      "file_extension": ".py",
      "mimetype": "text/x-python",
      "name": "python",
      "nbconvert_exporter": "python",
      "pygments_lexer": "ipython3",
      "version": "3.9.7"
    },
    "latex_envs": {
      "LaTeX_envs_menu_present": true,
      "autoclose": false,
      "autocomplete": true,
      "bibliofile": "biblio.bib",
      "cite_by": "apalike",
      "current_citInitial": 1,
      "eqLabelWithNumbers": true,
      "eqNumInitial": 1,
      "hotkeys": {
        "equation": "Ctrl-E",
        "itemize": "Ctrl-I"
      },
      "labels_anchors": false,
      "latex_user_defs": false,
      "report_style_numbering": false,
      "user_envs_cfg": false
    },
    "toc": {
      "base_numbering": 1,
      "nav_menu": {},
      "number_sections": false,
      "sideBar": true,
      "skip_h1_title": false,
      "title_cell": "Table of Contents",
      "title_sidebar": "Contents",
      "toc_cell": false,
      "toc_position": {},
      "toc_section_display": true,
      "toc_window_display": false
    },
    "colab": {
      "provenance": []
    }
  },
  "nbformat": 4,
  "nbformat_minor": 0
}